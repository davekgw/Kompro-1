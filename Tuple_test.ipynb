{
  "nbformat": 4,
  "nbformat_minor": 0,
  "metadata": {
    "colab": {
      "provenance": [],
      "authorship_tag": "ABX9TyNDJMZCD9oEoFbdmDvHMKnf",
      "include_colab_link": true
    },
    "kernelspec": {
      "name": "python3",
      "display_name": "Python 3"
    },
    "language_info": {
      "name": "python"
    }
  },
  "cells": [
    {
      "cell_type": "markdown",
      "metadata": {
        "id": "view-in-github",
        "colab_type": "text"
      },
      "source": [
        "<a href=\"https://colab.research.google.com/github/davekgw/Kompro-1/blob/main/Tuple_test.ipynb\" target=\"_parent\"><img src=\"https://colab.research.google.com/assets/colab-badge.svg\" alt=\"Open In Colab\"/></a>"
      ]
    },
    {
      "cell_type": "markdown",
      "source": [
        "Isi dari variable taple tidak bisa diubah.."
      ],
      "metadata": {
        "id": "9CuAPSVW14tg"
      }
    },
    {
      "cell_type": "markdown",
      "source": [
        "Directory tuple berbeda dgn list.."
      ],
      "metadata": {
        "id": "hO_4tzI_2Frr"
      }
    },
    {
      "cell_type": "markdown",
      "source": [
        "Test!!"
      ],
      "metadata": {
        "id": "wYZlQu12ulda"
      }
    },
    {
      "cell_type": "code",
      "execution_count": 16,
      "metadata": {
        "colab": {
          "base_uri": "https://localhost:8080/"
        },
        "id": "_biWqNKZrBeW",
        "outputId": "f5f526ed-d0fd-4e1f-b4c3-653cbee0c2a7"
      },
      "outputs": [
        {
          "output_type": "stream",
          "name": "stdout",
          "text": [
            "Tuple: (4, 6, 2, 8, 3, 1)\n",
            "(4, 6, 2, 8, 3, 1, 9)\n",
            "(4, 6, 2, 8, 3, 1, 9, 4, 6, 2, 8, 3)\n",
            "(4, 6, 2, 8, 3, 4, 6, 2, 8, 3, 1, 9, 4, 6, 2, 8, 3)\n"
          ]
        }
      ],
      "source": [
        "tup = (4, 6, 2, 8, 3, 1)\n",
        "print(f\"Tuple: {tup}\")\n",
        "tup1 = tup + (9,)\n",
        "print(f\"Ditambah 9: {tup1}\")\n",
        "\n",
        "tup2 = tup[:5]\n",
        "print(f\"{tup1 + tup2}\")\n",
        "print(tup2 + tup1 + tup2)"
      ]
    },
    {
      "cell_type": "code",
      "source": [
        "tup = ('w', '3', 'r', 'e', 's', 'o', 'u', 'r', 'c', 'e')\n",
        "print(f\"{tup[3]}, {tup[6]}\")"
      ],
      "metadata": {
        "colab": {
          "base_uri": "https://localhost:8080/"
        },
        "id": "uw-znvnqvHtt",
        "outputId": "1c376ab3-bbb2-473f-fe40-000f09b0e973"
      },
      "execution_count": 7,
      "outputs": [
        {
          "output_type": "stream",
          "name": "stdout",
          "text": [
            "e, u\n"
          ]
        }
      ]
    },
    {
      "cell_type": "code",
      "source": [
        "tup = (2, 4, 5, 6, 2, 3, 4, 4, 7)\n",
        "print(tup.count(4))"
      ],
      "metadata": {
        "colab": {
          "base_uri": "https://localhost:8080/"
        },
        "id": "tgjazsViwtLb",
        "outputId": "aa68d88c-4fc4-484e-850e-96081739504f"
      },
      "execution_count": 12,
      "outputs": [
        {
          "output_type": "stream",
          "name": "stdout",
          "text": [
            "3\n"
          ]
        }
      ]
    },
    {
      "cell_type": "code",
      "source": [
        "tup = ('w', '3', 'r', 'e', 's', 'o', 'u', 'r', 'c', 'e')\n",
        "tup1 = tup[:2]\n",
        "tup2 = tup[3:]\n",
        "tup3 = tup1 + tup[3:7] + tup[8:]\n",
        "print(f\"Tuple : {tup}\\nBagian 1 : {tup1}\\nBagian 2 : {tup2}\\nGabung B1 & B2 : {tup1 + tup2}\\nMenghapus 'c' dari bagian 1 + 2 : {tup3}\")"
      ],
      "metadata": {
        "colab": {
          "base_uri": "https://localhost:8080/"
        },
        "id": "Kf4l0DAkxyv6",
        "outputId": "5e54844e-30fe-4b89-f545-4fe8292bc23d"
      },
      "execution_count": 27,
      "outputs": [
        {
          "output_type": "stream",
          "name": "stdout",
          "text": [
            "Tuple : ('w', '3', 'r', 'e', 's', 'o', 'u', 'r', 'c', 'e')\n",
            "Bagian 1 : ('w', '3')\n",
            "Bagian 2 : ('e', 's', 'o', 'u', 'r', 'c', 'e')\n",
            "Gabung B1 & B2 : ('w', '3', 'e', 's', 'o', 'u', 'r', 'c', 'e')\n",
            "Menghapus 'c' dari bagian 1 + 2 : ('w', '3', 'e', 's', 'o', 'u', 'c', 'e')\n"
          ]
        }
      ]
    },
    {
      "cell_type": "code",
      "source": [
        "tuple1 = ('w', '3', 'r', 'e', 's', 'o', 'u', 'r', 'c', 'e')\n",
        "print(f\"Length - {len(tuple1)}\")"
      ],
      "metadata": {
        "colab": {
          "base_uri": "https://localhost:8080/"
        },
        "id": "NqyQHhJm1c14",
        "outputId": "c103b755-be46-499f-975c-092395d60c04"
      },
      "execution_count": 29,
      "outputs": [
        {
          "output_type": "stream",
          "name": "stdout",
          "text": [
            "Length - 10\n"
          ]
        }
      ]
    },
    {
      "cell_type": "code",
      "source": [
        "lis = [5, 10, 7, 4, 15, 3]\n",
        "print(tuple(lis))"
      ],
      "metadata": {
        "colab": {
          "base_uri": "https://localhost:8080/"
        },
        "id": "sFRQPLxh2Nrs",
        "outputId": "00e30530-48f9-4249-aec5-0e017e52e03b"
      },
      "execution_count": 30,
      "outputs": [
        {
          "output_type": "stream",
          "name": "stdout",
          "text": [
            "(5, 10, 7, 4, 15, 3)\n"
          ]
        }
      ]
    },
    {
      "cell_type": "code",
      "source": [
        "ind = ('i ', 'n', 'd', 'e', 'x', '', 't', 'u', 'p', 'l', 'e')\n",
        "print(ind.index(\"p\"))"
      ],
      "metadata": {
        "colab": {
          "base_uri": "https://localhost:8080/"
        },
        "id": "gkU2FP_720an",
        "outputId": "b1e9d756-16ac-4f3a-a67b-50547b650530"
      },
      "execution_count": 32,
      "outputs": [
        {
          "output_type": "stream",
          "name": "stdout",
          "text": [
            "8\n"
          ]
        }
      ]
    },
    {
      "cell_type": "code",
      "source": [
        "tup = (2, 4, 5, 6, 2, 3, 4, 4, 7)\n",
        "print(f\"{tup.index(4, 0)}{tup.index(4, 2)}{tup.index(4, 7)}\")"
      ],
      "metadata": {
        "colab": {
          "base_uri": "https://localhost:8080/"
        },
        "id": "dJZ3S7ld4dLa",
        "outputId": "e77df072-f925-43d1-8d89-fbc735bfe361"
      },
      "execution_count": 38,
      "outputs": [
        {
          "output_type": "stream",
          "name": "stdout",
          "text": [
            "167\n"
          ]
        }
      ]
    },
    {
      "cell_type": "code",
      "source": [
        "tup = ('Hello', 5, [], True)\n",
        "print(tup)\n",
        "tup[2].append(50)\n",
        "print(tup)\n",
        "tup[2].remove(50)\n",
        "print(tup)\n"
      ],
      "metadata": {
        "colab": {
          "base_uri": "https://localhost:8080/"
        },
        "id": "08OiyTcQ6K_T",
        "outputId": "2f1602de-1755-4291-f0f4-6e30d8af4904"
      },
      "execution_count": 44,
      "outputs": [
        {
          "output_type": "stream",
          "name": "stdout",
          "text": [
            "('Hello', 5, [], True)\n",
            "('Hello', 5, [50], True)\n",
            "('Hello', 5, [], True)\n"
          ]
        }
      ]
    }
  ]
}