{
  "nbformat": 4,
  "nbformat_minor": 0,
  "metadata": {
    "colab": {
      "provenance": [],
      "authorship_tag": "ABX9TyN5aNF3bVVHrDCOS+jgeOrx",
      "include_colab_link": true
    },
    "kernelspec": {
      "name": "python3",
      "display_name": "Python 3"
    },
    "language_info": {
      "name": "python"
    }
  },
  "cells": [
    {
      "cell_type": "markdown",
      "metadata": {
        "id": "view-in-github",
        "colab_type": "text"
      },
      "source": [
        "<a href=\"https://colab.research.google.com/github/davekgw/Kompro-1/blob/main/Tunjangan_Anak.ipynb\" target=\"_parent\"><img src=\"https://colab.research.google.com/assets/colab-badge.svg\" alt=\"Open In Colab\"/></a>"
      ]
    },
    {
      "cell_type": "code",
      "execution_count": 90,
      "metadata": {
        "id": "7EPOJUXn4-Qz",
        "colab": {
          "base_uri": "https://localhost:8080/"
        },
        "outputId": "facf6cda-612a-4a19-ad21-e5a81ba14be7"
      },
      "outputs": [
        {
          "output_type": "stream",
          "name": "stdout",
          "text": [
            "Masukan gaji pokok: 90\n",
            "Masukan jumlah anak: 1\n",
            "Gaji PNS = Rp.99\n"
          ]
        }
      ],
      "source": [
        "tunjangan = 0.10\n",
        "gaji_pokok = int(input(\"Masukan gaji pokok: \"))\n",
        "jumlah = int(input(\"Masukan jumlah anak: \"))\n",
        "if (jumlah < 3):\n",
        "  gaji = (gaji_pokok * tunjangan) * jumlah\n",
        "  gaji = gaji + gaji_pokok\n",
        "else:\n",
        "  jumlah = 3\n",
        "  gaji = (gaji_pokok * tunjangan) * jumlah\n",
        "  gaji = gaji + gaji_pokok\n",
        "\n",
        "print(f\"Gaji PNS = Rp.{int(gaji)}\")"
      ]
    }
  ]
}