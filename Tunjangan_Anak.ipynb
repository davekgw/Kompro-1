{
  "nbformat": 4,
  "nbformat_minor": 0,
  "metadata": {
    "colab": {
      "provenance": [],
      "authorship_tag": "ABX9TyNjPRFl8QzOp4yE41tXPxHb",
      "include_colab_link": true
    },
    "kernelspec": {
      "name": "python3",
      "display_name": "Python 3"
    },
    "language_info": {
      "name": "python"
    }
  },
  "cells": [
    {
      "cell_type": "markdown",
      "metadata": {
        "id": "view-in-github",
        "colab_type": "text"
      },
      "source": [
        "<a href=\"https://colab.research.google.com/github/davekgw/Kompro-1/blob/main/Tunjangan_Anak.ipynb\" target=\"_parent\"><img src=\"https://colab.research.google.com/assets/colab-badge.svg\" alt=\"Open In Colab\"/></a>"
      ]
    },
    {
      "cell_type": "code",
      "execution_count": 127,
      "metadata": {
        "id": "7EPOJUXn4-Qz",
        "colab": {
          "base_uri": "https://localhost:8080/"
        },
        "outputId": "85776c81-a385-46c2-ae3d-637241e36dfc"
      },
      "outputs": [
        {
          "output_type": "stream",
          "name": "stdout",
          "text": [
            "Masukan gaji pokok: 1000000\n",
            "Jumlah anak = 1\n",
            "Gaji Pokok = Rp.1000000\n",
            "Tunjangan = Rp.100000\n"
          ]
        }
      ],
      "source": [
        "gaji_pokok = int(input(\"Masukan gaji pokok: \"))\n",
        "while True:\n",
        "  jumlah = int(input(\"Jumlah anak = \"))\n",
        "  if (jumlah > -1):\n",
        "    break\n",
        "  else:\n",
        "    print(\"Masukan input yang benar!!\")\n",
        "\n",
        "if (jumlah > -1 and jumlah < 4):\n",
        "  tunjangan = 0.10\n",
        "  gaji = (gaji_pokok * tunjangan) * jumlah\n",
        "  #gaji = gaji + gaji_pokok\n",
        "elif (jumlah > 3):\n",
        "  jumlah = 3\n",
        "  tunjangan = 0.10\n",
        "  gaji = (gaji_pokok * tunjangan) * jumlah\n",
        "  #gaji = gaji + gaji_pokok\n",
        "\n",
        "print(f\"Gaji Pokok = Rp.{gaji_pokok}\\nTunjangan = Rp.{int(gaji)}\")"
      ]
    }
  ]
}