{
  "cells": [
    {
      "cell_type": "markdown",
      "metadata": {
        "id": "view-in-github",
        "colab_type": "text"
      },
      "source": [
        "<a href=\"https://colab.research.google.com/github/davekgw/Kompro-1/blob/main/Celcius.ipynb\" target=\"_parent\"><img src=\"https://colab.research.google.com/assets/colab-badge.svg\" alt=\"Open In Colab\"/></a>"
      ]
    },
    {
      "cell_type": "code",
      "execution_count": null,
      "metadata": {
        "colab": {
          "base_uri": "https://localhost:8080/"
        },
        "id": "9BvXkRcN6kAJ",
        "outputId": "006d0a0a-9a54-4da5-f438-049cbef58e4f"
      },
      "outputs": [
        {
          "name": "stdout",
          "output_type": "stream",
          "text": [
            "Masukan nilai Celcius: 5\n",
            "Nilai 5 = 41.000000\n"
          ]
        }
      ],
      "source": [
        "celcius = int(input(\"Masukan nilai Celcius: \"))\n",
        "farenheit = (celcius*9/5)+32\n",
        "print(\"Nilai %d = %f\" %(celcius,farenheit))"
      ]
    },
    {
      "cell_type": "code",
      "execution_count": null,
      "metadata": {
        "colab": {
          "background_save": true
        },
        "id": "obniyroy-hID",
        "outputId": "e6372a6f-ab5b-435c-e437-5bf72241c219"
      },
      "outputs": [
        {
          "name": "stdout",
          "output_type": "stream",
          "text": [
            "Dev akan berusia 100 tahun 2106\n"
          ]
        }
      ],
      "source": [
        "Nama = input(\"Masukan namamu: \")\n",
        "Umur = int(input(\"Masukan umurmu: \"))\n",
        "tahun = (100-Umur)+2023\n",
        "\n",
        "print(f\"{Nama.capitalize()} akan berusia 100 tahun {tahun}\")"
      ]
    }
  ],
  "metadata": {
    "colab": {
      "provenance": [],
      "authorship_tag": "ABX9TyPQ+ZCrYb3EZGQrX9x5a9hf",
      "include_colab_link": true
    },
    "kernelspec": {
      "display_name": "Python 3",
      "name": "python3"
    },
    "language_info": {
      "name": "python"
    }
  },
  "nbformat": 4,
  "nbformat_minor": 0
}