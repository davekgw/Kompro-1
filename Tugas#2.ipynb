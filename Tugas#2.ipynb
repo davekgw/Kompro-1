{
  "nbformat": 4,
  "nbformat_minor": 0,
  "metadata": {
    "colab": {
      "provenance": [],
      "authorship_tag": "ABX9TyM6YdaRkaX6cX3gS7xDu5CV",
      "include_colab_link": true
    },
    "kernelspec": {
      "name": "python3",
      "display_name": "Python 3"
    },
    "language_info": {
      "name": "python"
    }
  },
  "cells": [
    {
      "cell_type": "markdown",
      "metadata": {
        "id": "view-in-github",
        "colab_type": "text"
      },
      "source": [
        "<a href=\"https://colab.research.google.com/github/davekgw/Kompro-1/blob/main/Tugas_2.ipynb\" target=\"_parent\"><img src=\"https://colab.research.google.com/assets/colab-badge.svg\" alt=\"Open In Colab\"/></a>"
      ]
    },
    {
      "cell_type": "code",
      "source": [
        "#Nama: Dave Koagow\n",
        "#Prodi: Informatika\n",
        "#Kelas: Komputer Programing\n",
        "#Tanggal Pembuatan: 17-Sep-2023\n",
        "\n",
        "### SOAL 1 ###\n",
        "from time import sleep as timeout\n",
        "from random import *\n",
        "\n",
        "rand = int(uniform(1, 2))\n",
        "print(\"S\", end = \"\")\n",
        "timeout(rand)\n",
        "print(\"O\", end = \"\")\n",
        "timeout(rand)\n",
        "print(\"A\", end = \"\")\n",
        "timeout(rand)\n",
        "print(\"L\", end = \"\")\n",
        "timeout(rand)\n",
        "print(\" 1\\n\")\n",
        "timeout(2)\n",
        "\n",
        "masuk = int(input(\"Masukan jam masuk (format 23 jam): \"))\n",
        "keluar = int(input(\"Masukan jam keluar (format 23 jam): \"))\n",
        "parkir1 = 2000 #2 jam pertama\n",
        "parkir2 = 500 #per jam berikutnya\n",
        "lama_parkir = keluar - masuk\n",
        "if (lama_parkir < 2):\n",
        "  biaya = parkir1\n",
        "  print(f\"Biaya parkir = Rp.{biaya}\")\n",
        "else:\n",
        "  biaya = parkir1 + (lama_parkir - 2) * parkir2\n",
        "  print(f\"Biaya parkir = Rp.{biaya}\")"
      ],
      "metadata": {
        "id": "DRWyOsfnvYYd"
      },
      "execution_count": null,
      "outputs": []
    },
    {
      "cell_type": "code",
      "source": [
        "\n",
        "\n",
        "#Nama: Dave Koagow\n",
        "#Prodi: Informatika\n",
        "#Kelas: Komputer Programing\n",
        "#Tanggal Pembuatan: 17-Sep-2023\n",
        "\n",
        "### SOAL 2 ###\n",
        "from time import sleep as timeout\n",
        "from random import *\n",
        "\n",
        "rand = int(uniform(1, 2))\n",
        "timeout(3)\n",
        "print(\"\\n\\nS\", end = \"\")\n",
        "timeout(rand)\n",
        "print(\"O\", end = \"\")\n",
        "timeout(rand)\n",
        "print(\"A\", end = \"\")\n",
        "timeout(rand)\n",
        "print(\"L\", end = \"\")\n",
        "timeout(rand)\n",
        "print(\" 2\\n\")\n",
        "timeout(2)\n",
        "\n",
        "jns1 = \"Baju (diskon 10%)\"\n",
        "jns2 = \"Celana (diskon 15%)\"\n",
        "jns3 = \"Sepatu (diskon 20%)\"\n",
        "print(f\"Jenis jenis barang:\\nA. {jns1}\\nB. {jns2}\\nC. {jns3}\\n\\n\")\n",
        "timeout(2)\n",
        "print(\"Ingin beli yang mana?\")\n",
        "while True:\n",
        "  jenis = input(\"Ketik A/B/C : \")\n",
        "\n",
        "  if (jenis == \"A\" or jenis == \"B\" or jenis == \"C\" or jenis == \"a\" or jenis == \"b\" or jenis == \"c\"):\n",
        "    break\n",
        "\n",
        "  else:\n",
        "    print(\"Pilih sesuai jenis yang ada!!\")\n",
        "\n",
        "timeout(rand)\n",
        "if (jenis == \"a\" or jenis == \"A\"):\n",
        "  hasil = jns1[0:4]\n",
        "  diskon = 0.10\n",
        "  dis = jns1[5:]\n",
        "elif (jenis == \"b\" or jenis == \"B\"):\n",
        "  hasil = jns2[0:6]\n",
        "  diskon = 0.15\n",
        "  dis = jns2[7:]\n",
        "elif (jenis == \"c\" or jenis == \"C\"):\n",
        "  hasil = jns3[0:6]\n",
        "  diskon = 0.20\n",
        "  dis = jns3[7:]\n",
        "\n",
        "timeout(rand)\n",
        "while True:\n",
        "  try:\n",
        "    harga = float(input(\"\\nSilahkan masukan harga yang kamu inginkan: \"))\n",
        "    break\n",
        "  except ValueError:\n",
        "    print(\"Harus memasukan angka!!\")\n",
        "\n",
        "total = harga - (harga * diskon)\n",
        "print(f\"\\n{hasil} = Rp.{harga} {dis}\")\n",
        "timeout(1)\n",
        "print(f\"Total Pembayaran : {total}\")\n",
        "timeout(3)\n",
        "print(\"\\n\\nYeeeyyyyyy (☞ ͡ ͡° ͜ ʖ ͡ ͡°)☞\")"
      ],
      "metadata": {
        "id": "SqwGWhnMkHn6",
        "colab": {
          "base_uri": "https://localhost:8080/"
        },
        "outputId": "2184c653-ba19-494a-bcc1-42a340e2b831"
      },
      "execution_count": null,
      "outputs": [
        {
          "output_type": "stream",
          "name": "stdout",
          "text": [
            "\n",
            "\n",
            "SOAL 2\n",
            "\n",
            "Jenis jenis barang:\n",
            "A. Baju (diskon 10%)\n",
            "B. Celana (diskon 15%)\n",
            "C. Sepatu (diskon 20%)\n",
            "\n",
            "\n",
            "Ingin beli yang mana?\n",
            "Ketik A/B/C : a\n",
            "\n",
            "Silahkan masukan harga yang kamu inginkan: 30000\n",
            "\n",
            "Baju = Rp.30000.0 (diskon 10%)\n",
            "Total Pembayaran : 27000.0\n",
            "\n",
            "\n",
            "Yeeeyyyyyy (☞ ͡ ͡° ͜ ʖ ͡ ͡°)☞\n"
          ]
        }
      ]
    }
  ]
}
