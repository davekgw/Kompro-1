{
  "nbformat": 4,
  "nbformat_minor": 0,
  "metadata": {
    "colab": {
      "provenance": [],
      "authorship_tag": "ABX9TyPZhyOBf+DHF7xydk15/LjP",
      "include_colab_link": true
    },
    "kernelspec": {
      "name": "python3",
      "display_name": "Python 3"
    },
    "language_info": {
      "name": "python"
    }
  },
  "cells": [
    {
      "cell_type": "markdown",
      "metadata": {
        "id": "view-in-github",
        "colab_type": "text"
      },
      "source": [
        "<a href=\"https://colab.research.google.com/github/davekgw/Kompro-1/blob/main/Testing.ipynb\" target=\"_parent\"><img src=\"https://colab.research.google.com/assets/colab-badge.svg\" alt=\"Open In Colab\"/></a>"
      ]
    },
    {
      "cell_type": "code",
      "execution_count": null,
      "metadata": {
        "colab": {
          "base_uri": "https://localhost:8080/"
        },
        "id": "K5M78gLzvdhf",
        "outputId": "e361c8c3-5139-4f8b-ad5c-360ad1cc3990"
      },
      "outputs": [
        {
          "output_type": "stream",
          "name": "stdout",
          "text": [
            "anu_wahwha\n"
          ]
        }
      ],
      "source": [
        "print(\"anu\", \"wahwha\", sep=\"_\")"
      ]
    },
    {
      "cell_type": "code",
      "source": [
        "print(\"anu\", \"wkwkwk\", end=\"\")\n",
        "print(\"wkwkwk\", end=\"\")\n",
        "print(\"wkwk\", end=\"\")\n",
        "print(\"an\", end=\"\")"
      ],
      "metadata": {
        "colab": {
          "base_uri": "https://localhost:8080/"
        },
        "id": "iBPP624YxiqB",
        "outputId": "333a466b-bb3d-4a32-b5bc-b6b3f88971d7"
      },
      "execution_count": null,
      "outputs": [
        {
          "output_type": "stream",
          "name": "stdout",
          "text": [
            "anu wkwkwkwkwkwkwkwkan"
          ]
        }
      ]
    },
    {
      "cell_type": "code",
      "source": [
        "print(\"anu\", \"wahwha\", sep=\"_\", end=\" \")\n",
        "print(\"anu\", \"wahwha\", sep=\"_\", end=\" \")\n",
        "print(\"anu\", \"wahwha\", sep=\"_\", end=\" \")"
      ],
      "metadata": {
        "colab": {
          "base_uri": "https://localhost:8080/"
        },
        "id": "erfEFPGcyK8s",
        "outputId": "af00272a-f492-4254-c707-7af6bd3cfab3"
      },
      "execution_count": null,
      "outputs": [
        {
          "output_type": "stream",
          "name": "stdout",
          "text": [
            "anu_wahwha anu_wahwha anu_wahwha "
          ]
        }
      ]
    },
    {
      "cell_type": "code",
      "source": [
        "a = 1234\n",
        "b = 12345678\n",
        "print(\"{} + {} = {}\".format(a, b, a + b))"
      ],
      "metadata": {
        "colab": {
          "base_uri": "https://localhost:8080/"
        },
        "id": "8ZEYyB0jyU1k",
        "outputId": "b20dff44-3b45-4f68-aec6-8457fc175b98"
      },
      "execution_count": null,
      "outputs": [
        {
          "output_type": "stream",
          "name": "stdout",
          "text": [
            "1234 + 12345678 = 12346912\n"
          ]
        }
      ]
    },
    {
      "cell_type": "code",
      "source": [
        "a = 1234\n",
        "b = 12345678\n",
        "print(a, \"+\", b, \"=\", a+b)"
      ],
      "metadata": {
        "colab": {
          "base_uri": "https://localhost:8080/"
        },
        "id": "Bbk0Cr1-zF9m",
        "outputId": "df9e8964-07db-43d8-d04f-474e569d129e"
      },
      "execution_count": null,
      "outputs": [
        {
          "output_type": "stream",
          "name": "stdout",
          "text": [
            "1234 + 12345678 = 12346912\n"
          ]
        }
      ]
    },
    {
      "cell_type": "code",
      "source": [
        "a = 1234\n",
        "b = 12345678\n",
        "print(\"%d + %d = %d\" %(a,b,a+b))"
      ],
      "metadata": {
        "colab": {
          "base_uri": "https://localhost:8080/"
        },
        "id": "nyJEQ7g1zTSF",
        "outputId": "0f863438-df10-4fda-8ae5-c76bb65a6005"
      },
      "execution_count": null,
      "outputs": [
        {
          "output_type": "stream",
          "name": "stdout",
          "text": [
            "1234 + 12345678 = 12346912\n"
          ]
        }
      ]
    },
    {
      "cell_type": "code",
      "source": [
        "a = 1234\n",
        "b = 12345678\n",
        "print(f\"{a} + {b} = {a+b}\")"
      ],
      "metadata": {
        "colab": {
          "base_uri": "https://localhost:8080/"
        },
        "id": "aUArIZRHziP9",
        "outputId": "fba2df0c-a07f-42b8-f974-485fbb91d758"
      },
      "execution_count": null,
      "outputs": [
        {
          "output_type": "stream",
          "name": "stdout",
          "text": [
            "1234 + 12345678 = 12346912\n"
          ]
        }
      ]
    },
    {
      "cell_type": "code",
      "source": [
        "print(\"Geeks: %d, Portal: %.2f\" %(170698, 05.333))\n",
        "print(\"Total students: %3d, Boys: %2d\" %(240, 120))\n",
        "print(\"%.3o\" %(25))\n",
        "print(\"%.2E\" %(356.08977))"
      ],
      "metadata": {
        "colab": {
          "base_uri": "https://localhost:8080/"
        },
        "id": "tj_9Th1b1-VF",
        "outputId": "30409f73-d471-42ff-c33c-a0e058febfa7"
      },
      "execution_count": null,
      "outputs": [
        {
          "output_type": "stream",
          "name": "stdout",
          "text": [
            "Geeks: 170698, Portal: 5.33\n",
            "Total students: 240, Boys: 120\n",
            "031\n",
            "3.56E+02\n"
          ]
        }
      ]
    },
    {
      "cell_type": "code",
      "source": [
        "print(\"%0.3E\" %(356.08977))"
      ],
      "metadata": {
        "colab": {
          "base_uri": "https://localhost:8080/"
        },
        "id": "hGTnwv5y79Kw",
        "outputId": "5bc62d66-0719-483e-c0f5-c4597a8383b3"
      },
      "execution_count": null,
      "outputs": [
        {
          "output_type": "stream",
          "name": "stdout",
          "text": [
            "3.561E+02\n"
          ]
        }
      ]
    },
    {
      "cell_type": "code",
      "source": [
        "from math import * #akar\n",
        "from time import * #timeout\n",
        "import math\n",
        "A = float(input(\"Enter: \"))\n",
        "r = sqrt(A/pi)\n",
        "print(\"Loading.\", end=\"\")\n",
        "timeout(1)\n",
        "print(\".\", end=\"\")\n",
        "timeout(1)\n",
        "print(\".\", end=\"\")\n",
        "timeout(1)\n",
        "print(\".\", end=\"\")\n",
        "timeout(1)\n",
        "print(\".\", end=\"\")\n",
        "timeout(1)\n",
        "print(\".\", end=\"\")\n",
        "timeout(1)\n",
        "print(\".\")\n",
        "timeout(1)\n",
        "print(\"The radius is %6.3f \" %(r))"
      ],
      "metadata": {
        "colab": {
          "base_uri": "https://localhost:8080/"
        },
        "id": "fClt4eY4A2YI",
        "outputId": "71fa3192-d8d6-4614-b5e0-1d7dada55bfa"
      },
      "execution_count": null,
      "outputs": [
        {
          "output_type": "stream",
          "name": "stdout",
          "text": [
            "Enter: 5\n",
            "Loading.......\n",
            "The radius is  1.262 \n",
            "<module 'math' (built-in)>\n"
          ]
        }
      ]
    },
    {
      "cell_type": "code",
      "source": [
        "#NOMOR 1\n",
        "from math import *\n",
        "from time import *\n",
        "r = 6.0\n",
        "#rumus = V = 4/3*pi*r**3\n",
        "V = 4/3 * pi * r**3\n",
        "print(\"Luas lingkaran %d\" %(V))\n",
        "timeout(5)\n",
        "#NOMOR 2\n",
        "F = float(input(\"Masukan nilai farenheit: \"))\n",
        "C = (F - 32) * 5/9\n",
        "print(\"%f Farenheit = %d Celcius\" %(F, C))"
      ],
      "metadata": {
        "colab": {
          "base_uri": "https://localhost:8080/"
        },
        "id": "JBMKOCDTEOot",
        "outputId": "c1a2133f-1450-4584-b43d-913e9fff5e6a"
      },
      "execution_count": null,
      "outputs": [
        {
          "output_type": "stream",
          "name": "stdout",
          "text": [
            "Luas lingkaran 904\n",
            "Masukan nilai farenheit: 8\n",
            "8.000000 Farenheit = -13 Celcius\n"
          ]
        }
      ]
    },
    {
      "cell_type": "code",
      "source": [
        "color_list = [\"Red\", \"Green\", \"White\", \"Black\"]\n",
        "print(color_list[0:4:3])\n"
      ],
      "metadata": {
        "id": "Pp_U9HLjFQ1E",
        "colab": {
          "base_uri": "https://localhost:8080/"
        },
        "outputId": "f0e5b19b-99b8-4a7d-bf14-73d1751cb9f0"
      },
      "execution_count": null,
      "outputs": [
        {
          "output_type": "stream",
          "name": "stdout",
          "text": [
            "['Red', 'White']\n"
          ]
        }
      ]
    },
    {
      "cell_type": "code",
      "source": [
        "fnama = input(\"Masukan First Name: \")\n",
        "lnama = input(\"Masukan Last Name: \")\n",
        "print(\"%s %s\" %(fnama, lnama))"
      ],
      "metadata": {
        "id": "1AwjDHnvLLhb"
      },
      "execution_count": null,
      "outputs": []
    },
    {
      "cell_type": "markdown",
      "source": [
        "phi = 3.14"
      ],
      "metadata": {
        "id": "6eoKDdkgBqAS"
      }
    },
    {
      "cell_type": "code",
      "source": [],
      "metadata": {
        "id": "eaTZUjf7KT8c"
      },
      "execution_count": null,
      "outputs": []
    }
  ]
}