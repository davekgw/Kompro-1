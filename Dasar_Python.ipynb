{
  "nbformat": 4,
  "nbformat_minor": 0,
  "metadata": {
    "colab": {
      "provenance": [],
      "authorship_tag": "ABX9TyPSlbKQoDcBtXoHODQoWHsw",
      "include_colab_link": true
    },
    "kernelspec": {
      "name": "python3",
      "display_name": "Python 3"
    },
    "language_info": {
      "name": "python"
    }
  },
  "cells": [
    {
      "cell_type": "markdown",
      "metadata": {
        "id": "view-in-github",
        "colab_type": "text"
      },
      "source": [
        "<a href=\"https://colab.research.google.com/github/davekgw/Kompro-1/blob/main/Dasar_Python.ipynb\" target=\"_parent\"><img src=\"https://colab.research.google.com/assets/colab-badge.svg\" alt=\"Open In Colab\"/></a>"
      ]
    },
    {
      "cell_type": "markdown",
      "source": [
        "Testing"
      ],
      "metadata": {
        "id": "RljlsM3HXXLe"
      }
    },
    {
      "cell_type": "code",
      "source": [
        "x=7\n",
        "y=100\n",
        "z=9\n",
        "result = x*5+y/(x*z)>=x*z/(z-x)*(y-z)\n",
        "if result == True:\n",
        "  result = \"Benar\"\n",
        "else:\n",
        "  result = \"Salah\"\n",
        "\n",
        "result"
      ],
      "metadata": {
        "colab": {
          "base_uri": "https://localhost:8080/",
          "height": 35
        },
        "id": "xFdRETzrqGHs",
        "outputId": "b7438b1e-8050-428c-a7a9-7e7f338224e8"
      },
      "execution_count": null,
      "outputs": [
        {
          "output_type": "execute_result",
          "data": {
            "text/plain": [
              "'Salah'"
            ],
            "application/vnd.google.colaboratory.intrinsic+json": {
              "type": "string"
            }
          },
          "metadata": {},
          "execution_count": 92
        }
      ]
    },
    {
      "cell_type": "code",
      "source": [
        "p = 10\n",
        "l = 10\n",
        "luas = p*l\n",
        "print(luas)"
      ],
      "metadata": {
        "colab": {
          "base_uri": "https://localhost:8080/"
        },
        "id": "Y5HmQP7bYbKj",
        "outputId": "8089e277-1963-46a0-9d1b-4f2683f66f64"
      },
      "execution_count": null,
      "outputs": [
        {
          "output_type": "stream",
          "name": "stdout",
          "text": [
            "100\n"
          ]
        }
      ]
    },
    {
      "cell_type": "markdown",
      "source": [
        "Variabel = p, l, luas (adalah pemberian nama pada alokasi memori, variable berisi nilai yang diberikan user)\n",
        "\n",
        "Operator = + * - /\n",
        "\n",
        "Fungsi = print()"
      ],
      "metadata": {
        "id": "Z6aovcOqZAkL"
      }
    },
    {
      "cell_type": "code",
      "execution_count": null,
      "metadata": {
        "colab": {
          "base_uri": "https://localhost:8080/"
        },
        "id": "RjfdN5i82NAN",
        "outputId": "3d2d3804-9e04-4eeb-f191-fd22acdf123e"
      },
      "outputs": [
        {
          "output_type": "stream",
          "name": "stdout",
          "text": [
            "Kurang dari 99\n"
          ]
        }
      ],
      "source": [
        "panjang = 10\n",
        "lebar = 9\n",
        "luas = panjang * lebar\n",
        "anu = luas\n",
        "if luas >= 99:\n",
        "  anu = \"Lebih dari 99\".capitalize()\n",
        "else:\n",
        "  anu = \"Kurang dari 99\"\n",
        "\n",
        "print(anu)"
      ]
    },
    {
      "cell_type": "markdown",
      "source": [
        "Menghitung luas lingkaran"
      ],
      "metadata": {
        "id": "nv3NnrVfXfSr"
      }
    },
    {
      "cell_type": "code",
      "source": [
        "r = 10\n",
        "phi = 3.14\n",
        "luas = phi * r * r\n",
        "luas = luas/2\n",
        "print(luas)"
      ],
      "metadata": {
        "colab": {
          "base_uri": "https://localhost:8080/"
        },
        "id": "nrrL69goXH97",
        "outputId": "fcf1b838-60b5-4bde-b7f0-0692a11e2c0c"
      },
      "execution_count": null,
      "outputs": [
        {
          "output_type": "stream",
          "name": "stdout",
          "text": [
            "157.0\n"
          ]
        }
      ]
    },
    {
      "cell_type": "markdown",
      "source": [
        "Cek Type Data."
      ],
      "metadata": {
        "id": "FI-CADx6pEl6"
      }
    },
    {
      "cell_type": "code",
      "source": [
        "r = 30\n",
        "type(r)"
      ],
      "metadata": {
        "colab": {
          "base_uri": "https://localhost:8080/"
        },
        "id": "8QGcVmAZn8pN",
        "outputId": "109a734b-5147-4724-b2d7-61d04e3ee1ce"
      },
      "execution_count": null,
      "outputs": [
        {
          "output_type": "execute_result",
          "data": {
            "text/plain": [
              "int"
            ]
          },
          "metadata": {},
          "execution_count": 1
        }
      ]
    },
    {
      "cell_type": "markdown",
      "source": [
        "Strings"
      ],
      "metadata": {
        "id": "NJKRT9T7pYyA"
      }
    },
    {
      "cell_type": "code",
      "source": [
        "digit = \"10987654321\"\n",
        "digit2 = 30\n",
        "print(digit)\n",
        "type(digit)"
      ],
      "metadata": {
        "colab": {
          "base_uri": "https://localhost:8080/"
        },
        "id": "3wMVTyizpSb5",
        "outputId": "1ecbb5d9-6086-4221-ebfb-012304570bb0"
      },
      "execution_count": null,
      "outputs": [
        {
          "output_type": "stream",
          "name": "stdout",
          "text": [
            "10987654321\n"
          ]
        },
        {
          "output_type": "execute_result",
          "data": {
            "text/plain": [
              "str"
            ]
          },
          "metadata": {},
          "execution_count": 10
        }
      ]
    },
    {
      "cell_type": "code",
      "source": [
        "tex = \"Dave's Koagow\" #kutip 2\n",
        "print(tex)"
      ],
      "metadata": {
        "colab": {
          "base_uri": "https://localhost:8080/"
        },
        "id": "Ao339JHcpuPO",
        "outputId": "97cdf528-be42-4ff7-aa0d-e7e368d6d645"
      },
      "execution_count": null,
      "outputs": [
        {
          "output_type": "stream",
          "name": "stdout",
          "text": [
            "Dave's Koagow\n"
          ]
        }
      ]
    },
    {
      "cell_type": "code",
      "source": [
        "tex = 'Dave\\'s Koagow' #kutip 1\n",
        "print(tex + \" blablabla\")"
      ],
      "metadata": {
        "colab": {
          "base_uri": "https://localhost:8080/"
        },
        "id": "OI3FHf3IqMD_",
        "outputId": "4b131bdc-9966-4b24-e0fe-fcb7115fe3e1"
      },
      "execution_count": null,
      "outputs": [
        {
          "output_type": "stream",
          "name": "stdout",
          "text": [
            "Dave's Koagow blablabla\n"
          ]
        }
      ]
    },
    {
      "cell_type": "markdown",
      "source": [
        "ARRAY!!"
      ],
      "metadata": {
        "id": "YOx0hMTAr-PR"
      }
    },
    {
      "cell_type": "code",
      "source": [
        "b = \"Dave koagow\"\n",
        "tex = b[0:]\n",
        "print(tex)"
      ],
      "metadata": {
        "colab": {
          "base_uri": "https://localhost:8080/"
        },
        "id": "-UemfOAqr8jK",
        "outputId": "ce46df6c-ce6e-4473-ddfa-b1a670c870b5"
      },
      "execution_count": null,
      "outputs": [
        {
          "output_type": "stream",
          "name": "stdout",
          "text": [
            "Dave koagow\n"
          ]
        }
      ]
    },
    {
      "cell_type": "markdown",
      "source": [
        "Test!"
      ],
      "metadata": {
        "id": "-ZnYK_8GzMJl"
      }
    },
    {
      "cell_type": "code",
      "source": [
        "a= 20\n",
        "b= 10\n",
        "c= 15\n",
        "d= 5\n",
        "e= 0\n",
        "\n",
        "e= (a + b) * c / d #90\n",
        "print(\"Value e =\", e)\n",
        "\n",
        "e= ((a + b) * c) / d #90\n",
        "print(\"Value e =\", e)\n",
        "\n",
        "e= (a + b) * (c / d) #90\n",
        "print(\"Value e =\", e)\n",
        "\n",
        "e= a + (b * c) / d #50\n",
        "print(\"Value e =\", e)"
      ],
      "metadata": {
        "colab": {
          "base_uri": "https://localhost:8080/"
        },
        "id": "4T6LgJ__wbZF",
        "outputId": "ff964b50-4d47-4f47-f52e-a196989f0c2f"
      },
      "execution_count": null,
      "outputs": [
        {
          "output_type": "stream",
          "name": "stdout",
          "text": [
            "Value e = 90.0\n",
            "Value e = 90.0\n",
            "Value e = 90.0\n",
            "Value e = 50.0\n"
          ]
        }
      ]
    },
    {
      "cell_type": "code",
      "source": [
        "tex = \"Python adalah bahasa pemrograman\"\n",
        "t = tex[14:20]\n",
        "tex2 = \"Selamat datang di dunia pemrograman\"\n",
        "y = tex2[8:18]\n",
        "tex3 = \"abcdefghij\"\n",
        "u = tex3[2:6]\n",
        "tex4 = \"Kucing manis banget\"\n",
        "i = tex4[7:]\n",
        "\n",
        "print(t)\n",
        "print(y)\n",
        "print(u)\n",
        "print(i)"
      ],
      "metadata": {
        "colab": {
          "base_uri": "https://localhost:8080/"
        },
        "id": "mxOGrJH_z6De",
        "outputId": "17f8a9b5-5c7b-4ab3-e8d4-749bb466431f"
      },
      "execution_count": null,
      "outputs": [
        {
          "output_type": "stream",
          "name": "stdout",
          "text": [
            "bahasa\n",
            "datang di \n",
            "cdef\n",
            "manis banget\n"
          ]
        }
      ]
    },
    {
      "cell_type": "code",
      "source": [
        "b = \"abcdefgh\"\n",
        "o = b[1]+b[3]+b[5]+b[7]\n",
        "print(o)\n",
        "\n",
        "t = \"abcdefgh\"\n",
        "i = t[1::2]\n",
        "print(i)\n",
        "#beda pengoperasian tapi hasil sama"
      ],
      "metadata": {
        "colab": {
          "base_uri": "https://localhost:8080/"
        },
        "id": "H19NU_0O7XLy",
        "outputId": "5dcc35df-c34c-4ad4-9fd4-a7b0e2d8f0e6"
      },
      "execution_count": null,
      "outputs": [
        {
          "output_type": "stream",
          "name": "stdout",
          "text": [
            "bdfh\n",
            "bdfh\n"
          ]
        }
      ]
    },
    {
      "cell_type": "markdown",
      "source": [
        "String Methods..."
      ],
      "metadata": {
        "id": "qP-YVlod9FtU"
      }
    },
    {
      "cell_type": "code",
      "source": [
        "tes = \"Jokes jokeR\"\n",
        "print(tes.count('o'))\n",
        "print(tes.count('o', 3, 5))\n",
        "print(tes.find(\"ke\"))\n",
        "print(tes.rfind(\"ke\"))\n",
        "print(tes.lower())\n",
        "print(tes.upper())\n",
        "print(tes.capitalize())\n",
        "print(tes.title())\n",
        "print(tes.swapcase())"
      ],
      "metadata": {
        "colab": {
          "base_uri": "https://localhost:8080/"
        },
        "id": "XUm58oyp3ePO",
        "outputId": "7e6b8892-c363-4c65-b32f-1ef5a9d41ebb"
      },
      "execution_count": null,
      "outputs": [
        {
          "output_type": "stream",
          "name": "stdout",
          "text": [
            "2\n",
            "0\n",
            "2\n",
            "8\n",
            "jokes joker\n",
            "JOKES JOKER\n",
            "Jokes joker\n",
            "Jokes Joker\n",
            "jOKES JOKEr\n"
          ]
        }
      ]
    },
    {
      "cell_type": "markdown",
      "source": [
        "Tipe tipe data : string, list, integer, float, boolean, tuple"
      ],
      "metadata": {
        "id": "ttjTzYglVMma"
      }
    },
    {
      "cell_type": "code",
      "source": [
        "temp = float(input(\"Masukan nilai: \"))\n",
        "wind = float(input(\"Masukan nilai: \"))\n",
        "a = 35.74;b = .6215;c = -35.75;d = .4275;e = .16\n",
        "wc = (a+b*temp)+(c+d*temp)*wind**e\n",
        "print(\"Hasilnya\", wc)\n"
      ],
      "metadata": {
        "colab": {
          "base_uri": "https://localhost:8080/"
        },
        "id": "MNQmzOfDmtvf",
        "outputId": "c7fc7969-4ca8-4e90-8d6d-b60eccda2066"
      },
      "execution_count": null,
      "outputs": [
        {
          "output_type": "stream",
          "name": "stdout",
          "text": [
            "Masukan nilai: 90\n",
            "Masukan nilai: 90\n",
            "Hasilnya 97.27316001705725\n"
          ]
        }
      ]
    },
    {
      "cell_type": "markdown",
      "source": [
        "Python print() function\n",
        "\n",
        "• Menggunakan data types:\n",
        "Similarly, when using other data types\n",
        "\n",
        "• %d -> Integer\n",
        "\n",
        "• %e -> exponential\n",
        "\n",
        "• %f -> Float\n",
        "\n",
        "• %o -> Octal\n",
        "\n",
        "• %x -> Hexadecimal\n",
        "\n",
        "• Example:\n",
        "\n",
        "print(\"Actual Number = %d\" %15)\n",
        "\n",
        "print(\"Exponential equivalent of the number = %e\" %15)\n",
        "\n",
        "print(\"Float of the number = %f\" %15)\n",
        "\n",
        "print(\"Octal equivalent of the number = %o\" %15)\n",
        "\n",
        "print(\"Hexadecimal equivalent of the number = %x\" %15)"
      ],
      "metadata": {
        "id": "3rAvNvx7wncO"
      }
    },
    {
      "cell_type": "code",
      "source": [
        "a=20\n",
        "b=\"anu\"\n",
        "print(\"Welcome to %s %%%d\" %(b,int(a)))"
      ],
      "metadata": {
        "colab": {
          "base_uri": "https://localhost:8080/"
        },
        "id": "jXVmlEKEwR44",
        "outputId": "af1a3225-14ce-414f-c3ca-5d82aad2420a"
      },
      "execution_count": null,
      "outputs": [
        {
          "output_type": "stream",
          "name": "stdout",
          "text": [
            "Welcome to anu %20\n"
          ]
        }
      ]
    },
    {
      "cell_type": "code",
      "source": [
        "print(\"hallo\\n\"*5)"
      ],
      "metadata": {
        "colab": {
          "base_uri": "https://localhost:8080/"
        },
        "id": "AwJoY4Mix7me",
        "outputId": "1fefcbae-a1f0-491b-a8aa-47022b9dea7a"
      },
      "execution_count": null,
      "outputs": [
        {
          "output_type": "stream",
          "name": "stdout",
          "text": [
            "hallo\n",
            "hallo\n",
            "hallo\n",
            "hallo\n",
            "hallo\n",
            "\n"
          ]
        }
      ]
    }
  ]
}