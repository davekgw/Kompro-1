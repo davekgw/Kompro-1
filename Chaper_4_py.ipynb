{
  "nbformat": 4,
  "nbformat_minor": 0,
  "metadata": {
    "colab": {
      "provenance": [],
      "authorship_tag": "ABX9TyOdb4Wqs/M5TRHR3fxEBSIc",
      "include_colab_link": true
    },
    "kernelspec": {
      "name": "python3",
      "display_name": "Python 3"
    },
    "language_info": {
      "name": "python"
    }
  },
  "cells": [
    {
      "cell_type": "markdown",
      "metadata": {
        "id": "view-in-github",
        "colab_type": "text"
      },
      "source": [
        "<a href=\"https://colab.research.google.com/github/davekgw/Kompro-1/blob/main/Chaper_4_py.ipynb\" target=\"_parent\"><img src=\"https://colab.research.google.com/assets/colab-badge.svg\" alt=\"Open In Colab\"/></a>"
      ]
    },
    {
      "cell_type": "code",
      "execution_count": null,
      "metadata": {
        "colab": {
          "base_uri": "https://localhost:8080/"
        },
        "id": "VOXc4AeWBqi8",
        "outputId": "e12712da-5f3b-49f0-9376-8f6c2f1f30e2"
      },
      "outputs": [
        {
          "output_type": "stream",
          "name": "stdout",
          "text": [
            "Nilai 5 lebih dari 3\n"
          ]
        }
      ],
      "source": [
        "tek = 5\n",
        "tex = 3\n",
        "if tek > tex:\n",
        "  print(\"Nilai 5 lebih dari 3\")\n",
        "\n",
        "if tex > tek:\n",
        "  print(\"Nilai 3 lebih dari 5\")"
      ]
    },
    {
      "cell_type": "code",
      "source": [
        "nilai = int(input(\"Masukan nilaimu: \"))\n",
        "if nilai > 95:\n",
        "  print(\"A+\")\n",
        "elif nilai > 90:\n",
        "  print(\"A\")\n",
        "elif nilai > 80:\n",
        "  print(\"A-\")\n",
        "elif nilai > 70:\n",
        "  print(\"B\")\n",
        "elif nilai > 60:\n",
        "  print(\"C\")\n",
        "elif nilai > 50:\n",
        "  print(\"D\")\n",
        "else:\n",
        "  print(\"Lu bodok:v\")"
      ],
      "metadata": {
        "colab": {
          "base_uri": "https://localhost:8080/"
        },
        "id": "mLSgvc6QDTth",
        "outputId": "09941338-a7c2-497a-e2c1-a654fb608c2e"
      },
      "execution_count": null,
      "outputs": [
        {
          "output_type": "stream",
          "name": "stdout",
          "text": [
            "Masukan nilaimu: 91\n",
            "A\n"
          ]
        }
      ]
    },
    {
      "cell_type": "code",
      "source": [],
      "metadata": {
        "id": "emA1rgTsI0gf"
      },
      "execution_count": null,
      "outputs": []
    },
    {
      "cell_type": "code",
      "source": [
        "nilai = int(input(\"Masukan nilai mu: \"))\n",
        "usia = int(input(\"Masukan usia mu: \"))\n",
        "if (nilai > 70):\n",
        "  if (usia < 15):\n",
        "    print(\"Selamat adek, kamu lulus\")\n",
        "  else:\n",
        "    print(\"Selamat kakak, kamu lulus\")\n",
        "else:\n",
        "  print(\"Se\")"
      ],
      "metadata": {
        "id": "HBuiwIpLI23T"
      },
      "execution_count": null,
      "outputs": []
    },
    {
      "cell_type": "code",
      "source": [
        "jam = 12\n",
        "masuk = int(input(\"Masukan jam masuk: \"))\n",
        "keluar = int(input(\"Masukan jam keluar: \"))\n",
        "if (masuk < keluar):\n",
        "  hasil = keluar - masuk\n",
        "  print(f\"Lama bekerja {hasil} jam\")\n",
        "elif (masuk > keluar):\n",
        "  hasil = (jam + keluar) - masuk\n",
        "  print(f\"Lama bekerja {hasil} jam\")\n",
        "else:\n",
        "  print(\"Waduuh lu ga masuk ya:v\")"
      ],
      "metadata": {
        "colab": {
          "base_uri": "https://localhost:8080/"
        },
        "id": "FnWkBoagJxAw",
        "outputId": "23c33650-ebcf-47e1-ab8d-68fdbd79d171"
      },
      "execution_count": null,
      "outputs": [
        {
          "output_type": "stream",
          "name": "stdout",
          "text": [
            "Masukan jam masuk: 9\n",
            "Masukan jam keluar: 12\n",
            "Lama bekerja 3 jam\n"
          ]
        }
      ]
    },
    {
      "cell_type": "code",
      "source": [],
      "metadata": {
        "id": "S4pSAWxnNAIy"
      },
      "execution_count": null,
      "outputs": []
    }
  ]
}