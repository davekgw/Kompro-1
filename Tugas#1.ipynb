{
  "nbformat": 4,
  "nbformat_minor": 0,
  "metadata": {
    "colab": {
      "provenance": [],
      "include_colab_link": true
    },
    "kernelspec": {
      "name": "python3",
      "display_name": "Python 3"
    },
    "language_info": {
      "name": "python"
    }
  },
  "cells": [
    {
      "cell_type": "markdown",
      "metadata": {
        "id": "view-in-github",
        "colab_type": "text"
      },
      "source": [
        "<a href=\"https://colab.research.google.com/github/davekgw/Kompro-1/blob/main/Tugas%231.ipynb\" target=\"_parent\"><img src=\"https://colab.research.google.com/assets/colab-badge.svg\" alt=\"Open In Colab\"/></a>"
      ]
    },
    {
      "cell_type": "code",
      "execution_count": null,
      "metadata": {
        "colab": {
          "base_uri": "https://localhost:8080/"
        },
        "id": "PvLAfhkAbOIa",
        "outputId": "2cf289c7-f4c8-4248-e38e-745086dd5e56"
      },
      "outputs": [
        {
          "output_type": "stream",
          "name": "stdout",
          "text": [
            "\n",
            "Twinkle, twinkle, litle star\n",
            "\tHow i wonder what you are!\n",
            "\t\tUp above the world so high,\n",
            "\t\tLike a diamond in the sky.\n",
            "Twinkle, twinkle, litle star,\n",
            "\tHow i wonder what you are\n"
          ]
        }
      ],
      "source": [
        "#Nama : Kawuwung, Marcellino Christian Putra\n",
        "#Tanggal : 29, Agustus 2023\n",
        "\"\"\"Home Work #1 Computer Programing\"\"\"\n",
        "\n",
        "tex = '\\nTwinkle, twinkle, litle star\\n\\tHow i wonder what you are!\\n\\t\\tUp above the world so high,\\n\\t\\tLike a diamond in the sky.\\nTwinkle, twinkle, litle star,\\n\\tHow i wonder what you are'\n",
        "print(tex)"
      ]
    },
    {
      "cell_type": "code",
      "source": [
        "\"\"\"Harus memasukan angka \"5\" untuk menemukan hasil\"\"\"\n",
        "\n",
        "i = int(input(\"Masukan angka: \"))\n",
        "s = i+i\n",
        "s2 = i+i+i\n",
        "print(s)\n",
        "print(s2)\n",
        "\n",
        "s3 = str(i) + ' + ' + str(s) + ' + ' + str(s2)\n",
        "print(s3)\n",
        "hasil = i + int(s) + int(s2)\n",
        "print(\"Hasil %s\" %hasil)"
      ],
      "metadata": {
        "id": "WgOfLJrmcuz5",
        "outputId": "a2428759-5875-4127-f14c-d8a4b51b9881",
        "colab": {
          "base_uri": "https://localhost:8080/"
        }
      },
      "execution_count": 6,
      "outputs": [
        {
          "output_type": "stream",
          "name": "stdout",
          "text": [
            "Masukan angka: 1\n",
            "2\n",
            "3\n",
            "1 + 2 + 3\n",
            "Hasil 6\n"
          ]
        }
      ]
    }
  ]
}