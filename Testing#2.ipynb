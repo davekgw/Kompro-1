{
  "nbformat": 4,
  "nbformat_minor": 0,
  "metadata": {
    "colab": {
      "provenance": [],
      "authorship_tag": "ABX9TyOEx8mCLxKNLaQhGVgZinrn",
      "include_colab_link": true
    },
    "kernelspec": {
      "name": "python3",
      "display_name": "Python 3"
    },
    "language_info": {
      "name": "python"
    }
  },
  "cells": [
    {
      "cell_type": "markdown",
      "metadata": {
        "id": "view-in-github",
        "colab_type": "text"
      },
      "source": [
        "<a href=\"https://colab.research.google.com/github/davekgw/Kompro-1/blob/main/Testing%232.ipynb\" target=\"_parent\"><img src=\"https://colab.research.google.com/assets/colab-badge.svg\" alt=\"Open In Colab\"/></a>"
      ]
    },
    {
      "cell_type": "code",
      "execution_count": null,
      "metadata": {
        "id": "uHtwHJ-nalph",
        "colab": {
          "base_uri": "https://localhost:8080/"
        },
        "outputId": "17602203-4441-4550-e7d4-be5b39874715"
      },
      "outputs": [
        {
          "output_type": "stream",
          "name": "stdout",
          "text": [
            "Welcome to my script!\n",
            "\n",
            "My name is Dave Koagow, I am a computer science faculty, informatics study program\n",
            "\n",
            "This is my answer\n",
            "\n",
            "\n",
            "No. 1\n",
            "\n",
            "Kalo mau lihat nomor 1 ketik \"ya\": ya\n",
            "\n",
            "Twinkle, twinkle, litle star\n",
            "\tHow i wonder what you are!\n",
            "\t\tUp above the world so high,\n",
            "\t\tLike a diamond in the sky.\n",
            "Twinkle, twinkle, litle star,\n",
            "\tHow i wonder what you are\n",
            "\n",
            "\n",
            "No. 2\n",
            "\n",
            "Masukan angka 5: 5\n",
            "55\n",
            "555\n",
            " |\n",
            " v\n",
            "5 + 55 + 555 =\n",
            "Hasilnya: 615\n"
          ]
        }
      ],
      "source": [
        "#Name: Dave koagow\n",
        "welcome = \"Welcome to my script!\\n\\nMy name is Dave Koagow, I am a computer science faculty, informatics study program\\n\\nThis is my answer\"\n",
        "print(welcome)\n",
        "\n",
        "text = input(\"\\n\\nNo. 1\\n\\nKalo mau lihat nomor 1 ketik \\\"ya\\\": \")\n",
        "if text == 'ya':\n",
        "    hasil1 = '\\nTwinkle, twinkle, litle star\\n\\tHow i wonder what you are!\\n\\t\\tUp above the world so high,\\n\\t\\tLike a diamond in the sky.\\nTwinkle, twinkle, litle star,\\n\\tHow i wonder what you are'\n",
        "    print(hasil1)\n",
        "\n",
        "lis = int(input(\"\\n\\nNo. 2\\n\\nMasukan angka 5: \"))\n",
        "if lis == 5:\n",
        "    tex = str(lis) + str(lis)\n",
        "    tex2 = str(lis) + str(lis) + str(lis)\n",
        "    print(tex)\n",
        "    print(tex2)\n",
        "    print(\" |\")\n",
        "    print(\" v\")\n",
        "\n",
        "    tex3 = str(lis) + ' + ' + tex + ' + ' + tex2 + ' ='\n",
        "    print(tex3)\n",
        "    hasil2 = lis + int(tex) + int(tex2)\n",
        "    print(\"Hasilnya: %s\" %hasil2)\n",
        "\n",
        "else:\n",
        "  print(\"Angka salah sir:v\\nHarus sesuai, kalo ga sesuai nanti jawaban saya tidak sesuai soal.. hehe\")"
      ]
    }
  ]
}