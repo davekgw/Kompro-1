{
  "nbformat": 4,
  "nbformat_minor": 0,
  "metadata": {
    "colab": {
      "provenance": [],
      "authorship_tag": "ABX9TyNc4xFwatdCIKV7yWbybOA+",
      "include_colab_link": true
    },
    "kernelspec": {
      "name": "python3",
      "display_name": "Python 3"
    },
    "language_info": {
      "name": "python"
    }
  },
  "cells": [
    {
      "cell_type": "markdown",
      "metadata": {
        "id": "view-in-github",
        "colab_type": "text"
      },
      "source": [
        "<a href=\"https://colab.research.google.com/github/davekgw/Kompro-1/blob/main/LTSD.ipynb\" target=\"_parent\"><img src=\"https://colab.research.google.com/assets/colab-badge.svg\" alt=\"Open In Colab\"/></a>"
      ]
    },
    {
      "cell_type": "code",
      "execution_count": null,
      "metadata": {
        "id": "8x2OnWz9wkJK",
        "colab": {
          "base_uri": "https://localhost:8080/"
        },
        "outputId": "46765509-d00e-4604-c248-8685d4d7fab9"
      },
      "outputs": [
        {
          "output_type": "stream",
          "name": "stdout",
          "text": [
            "list!\n",
            "Test\n",
            "['list!', 'Test']\n"
          ]
        }
      ],
      "source": [
        "list = [\"Test\", \"list!\", \"Test\"]\n",
        "list.remove(\"Test\")\n",
        "print(list[0])\n",
        "print(list[1])\n",
        "print(list)"
      ]
    },
    {
      "cell_type": "code",
      "source": [],
      "metadata": {
        "id": "MtNS8iS2qf46"
      },
      "execution_count": null,
      "outputs": []
    },
    {
      "cell_type": "markdown",
      "source": [
        "Test!!"
      ],
      "metadata": {
        "id": "QmlpO3T_EVe-"
      }
    },
    {
      "cell_type": "code",
      "source": [
        "index = [\"red\", \"green\", \"black\", \"white\", \"pink\", \"yellow\"]\n",
        "del index[0]\n",
        "del index[3:]\n",
        "print(index)"
      ],
      "metadata": {
        "colab": {
          "base_uri": "https://localhost:8080/"
        },
        "id": "fxoScXZtEUsC",
        "outputId": "60c4421b-cfac-437d-e09f-226292dc7196"
      },
      "execution_count": null,
      "outputs": [
        {
          "output_type": "stream",
          "name": "stdout",
          "text": [
            "['green', 'black', 'white']\n"
          ]
        }
      ]
    },
    {
      "cell_type": "code",
      "source": [
        "index = [10, 12, 20, 22]\n",
        "hasil = index[0] + index[1] + index[2] + index[3]\n",
        "print(hasil)"
      ],
      "metadata": {
        "id": "q_XXiuhSIsIz",
        "colab": {
          "base_uri": "https://localhost:8080/"
        },
        "outputId": "3b30e057-3a8b-444b-8011-e3fd06561574"
      },
      "execution_count": null,
      "outputs": [
        {
          "output_type": "stream",
          "name": "stdout",
          "text": [
            "64\n"
          ]
        }
      ]
    },
    {
      "cell_type": "code",
      "source": [
        "index = [8, -3, 22, 12]\n",
        "index.sort()\n",
        "print(index[0])"
      ],
      "metadata": {
        "colab": {
          "base_uri": "https://localhost:8080/"
        },
        "id": "95RFBEQnJl7P",
        "outputId": "305e097d-8d66-4839-d893-5531975cd8aa"
      },
      "execution_count": null,
      "outputs": [
        {
          "output_type": "stream",
          "name": "stdout",
          "text": [
            "-3\n"
          ]
        }
      ]
    },
    {
      "cell_type": "code",
      "source": [
        "index = [1, 2, 3, 0]\n",
        "index2 = [\"red\", \"green\", \"black\"]\n",
        "hasil = index + index2\n",
        "print(hasil)"
      ],
      "metadata": {
        "colab": {
          "base_uri": "https://localhost:8080/"
        },
        "id": "iI9z9feqKrF-",
        "outputId": "6dbf8659-0b54-4edb-8721-c774143376a4"
      },
      "execution_count": null,
      "outputs": [
        {
          "output_type": "stream",
          "name": "stdout",
          "text": [
            "[1, 2, 3, 0, 'red', 'green', 'black']\n"
          ]
        }
      ]
    },
    {
      "cell_type": "code",
      "source": [
        "index = [\"P\", \"Y\", \"T\", \"H\", \"O\", \"N\"]\n",
        "hasil = \"\"\n",
        "print(hasil.join(index))"
      ],
      "metadata": {
        "colab": {
          "base_uri": "https://localhost:8080/"
        },
        "id": "zw2BK-oMMJyP",
        "outputId": "05076d15-ce23-4d0b-b2e6-6eb348b588b9"
      },
      "execution_count": null,
      "outputs": [
        {
          "output_type": "stream",
          "name": "stdout",
          "text": [
            "PYTHON\n"
          ]
        }
      ]
    },
    {
      "cell_type": "code",
      "source": [
        "index = [10, 10, 10, 20, 20, 20, 30, 30, 40, 50]\n",
        "has = index.count(10)\n",
        "has1 = index.count(20)\n",
        "has2 = index.count(30)\n",
        "has3 = index.count(40)\n",
        "has4 = index.count(50)\n",
        "print(f\"10: {has}\\n20: {has1}\\n30: {has2}\\n40: {has3}\\n50: {has4}\")"
      ],
      "metadata": {
        "id": "WTL_BO_YODCX",
        "colab": {
          "base_uri": "https://localhost:8080/"
        },
        "outputId": "dee3461c-ab51-4923-8417-38d3fda7bc8e"
      },
      "execution_count": null,
      "outputs": [
        {
          "output_type": "stream",
          "name": "stdout",
          "text": [
            "10: 3\n",
            "20: 3\n",
            "30: 2\n",
            "40: 1\n",
            "50: 1\n"
          ]
        }
      ]
    },
    {
      "cell_type": "code",
      "source": [
        "index = [10, 10, 10, 20, 20, 20, 30, 30, 40, 50]\n",
        "print(\"%d\" %index.count(10))"
      ],
      "metadata": {
        "colab": {
          "base_uri": "https://localhost:8080/"
        },
        "id": "JJ1h3qU6SSZd",
        "outputId": "31af0fa2-b922-4623-8ee4-84d6bf4b052c"
      },
      "execution_count": null,
      "outputs": [
        {
          "output_type": "stream",
          "name": "stdout",
          "text": [
            "3\n"
          ]
        }
      ]
    }
  ]
}