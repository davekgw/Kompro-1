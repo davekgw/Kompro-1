{
  "nbformat": 4,
  "nbformat_minor": 0,
  "metadata": {
    "colab": {
      "provenance": [],
      "authorship_tag": "ABX9TyOl1hHJ0RZT6cD5yMhTi8af",
      "include_colab_link": true
    },
    "kernelspec": {
      "name": "python3",
      "display_name": "Python 3"
    },
    "language_info": {
      "name": "python"
    }
  },
  "cells": [
    {
      "cell_type": "markdown",
      "metadata": {
        "id": "view-in-github",
        "colab_type": "text"
      },
      "source": [
        "<a href=\"https://colab.research.google.com/github/davekgw/Kompro-1/blob/main/Minibus_Pariwisata.ipynb\" target=\"_parent\"><img src=\"https://colab.research.google.com/assets/colab-badge.svg\" alt=\"Open In Colab\"/></a>"
      ]
    },
    {
      "cell_type": "code",
      "execution_count": 34,
      "metadata": {
        "id": "SGRROnwS_tUX",
        "colab": {
          "base_uri": "https://localhost:8080/"
        },
        "outputId": "854a5a77-f4b5-4f82-dde4-d239f74783a2"
      },
      "outputs": [
        {
          "output_type": "stream",
          "name": "stdout",
          "text": [
            "Masukan jumlah penumpang..\n",
            "> 5\n",
            "Jumlah peserta: 5 orang\n",
            "Bus yang digunakan: 1 bus\n"
          ]
        }
      ],
      "source": [
        "org = int(input(\"Masukan jumlah penumpang..\\n> \"))\n",
        "bus = 0\n",
        "kapasitas = 7\n",
        "if (org > kapasitas):\n",
        "  bus = org/kapasitas\n",
        "  if (org % kapasitas != 0):\n",
        "    bus += 1\n",
        "elif (org > 0):\n",
        "  bus = 1\n",
        "\n",
        "print(f\"Jumlah peserta: {org} orang\\nMinibus yang digunakan: {bus} minibus\")\n"
      ]
    }
  ]
}