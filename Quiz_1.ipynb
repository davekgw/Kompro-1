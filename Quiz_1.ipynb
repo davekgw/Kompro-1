{
  "nbformat": 4,
  "nbformat_minor": 0,
  "metadata": {
    "colab": {
      "provenance": [],
      "authorship_tag": "ABX9TyNy0DSyKtsuOw2+XXhq4Oc3",
      "include_colab_link": true
    },
    "kernelspec": {
      "name": "python3",
      "display_name": "Python 3"
    },
    "language_info": {
      "name": "python"
    }
  },
  "cells": [
    {
      "cell_type": "markdown",
      "metadata": {
        "id": "view-in-github",
        "colab_type": "text"
      },
      "source": [
        "<a href=\"https://colab.research.google.com/github/davekgw/Kompro-1/blob/main/Quiz_1.ipynb\" target=\"_parent\"><img src=\"https://colab.research.google.com/assets/colab-badge.svg\" alt=\"Open In Colab\"/></a>"
      ]
    },
    {
      "cell_type": "code",
      "execution_count": null,
      "metadata": {
        "id": "ItobDSeTg18G"
      },
      "outputs": [],
      "source": [
        "\n",
        "nhari = int(input(\"Masukan hari lalu: \"))\n",
        "hari_ini = int(input(\"Masukan hari ini: \"))\n",
        "\n",
        "if (hari_ini > nhari):\n",
        "  hari = hari_ini - nhari\n",
        "else:\n",
        "  hari = 7 - (nhari - hari_ini)\n",
        "\n",
        "if (hari == 1):\n",
        "  print(\"senin\")\n",
        "elif (hari == 2):\n",
        "  print(\"selasa\")\n",
        "elif (hari == 3):\n",
        "  print(\"rabu\")\n",
        "elif (hari == 4):\n",
        "  print(\"kamis\")\n",
        "elif (hari == 5):\n",
        "  print(\"jumat\")\n",
        "elif (hari == 6):\n",
        "  print(\"sabtu\")\n",
        "elif (hari == 7):\n",
        "  print(\"minggu\")\n",
        "else:\n",
        "  print(\"Format salah!!\")"
      ]
    }
  ]
}